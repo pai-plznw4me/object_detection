{
  "nbformat": 4,
  "nbformat_minor": 0,
  "metadata": {
    "colab": {
      "name": "normalization_anchor.ipynb",
      "provenance": [],
      "private_outputs": true,
      "collapsed_sections": []
    },
    "kernelspec": {
      "name": "python3",
      "display_name": "Python 3"
    }
  },
  "cells": [
    {
      "cell_type": "code",
      "metadata": {
        "id": "3pD2JKpmo_8q",
        "colab_type": "code",
        "colab": {}
      },
      "source": [
        "import numpy as np "
      ],
      "execution_count": 0,
      "outputs": []
    },
    {
      "cell_type": "code",
      "metadata": {
        "id": "REjV-Ld9owj8",
        "colab_type": "code",
        "colab": {}
      },
      "source": [
        "def normalize_anchors(anchors, ground_truths):\n",
        "    \n",
        "    \"\"\"\n",
        "    Args:\n",
        "        groundtruths : Ndarray, 1D arrray, example) [cx, cy, w, h, \n",
        "                                                     cx1, cy1, w1, h1 ...]\n",
        "\n",
        "        anchors : Ndarray, 1D arrray, example) [gt_cx, gt_cy, gt_w, gt_h, \n",
        "                                                gt_cx1, gt_cy1, gt_w1, gt_h1 \n",
        "                                                ...]\n",
        "    Return:\n",
        "        norm_anchors: Ndarray, 3D array shape [N_anchor, N_gt, 4]\n",
        "        \n",
        "    Description:\n",
        "        anchors 와 ground truths 을 통해 거리 계산을 한다. \n",
        "    \"\"\"\n",
        "    # 1d array (N*4) to 2d array (N, 4)\n",
        "    anchors_2d = np.reshape(anchors, (-1,4))\n",
        "    gt_2d = np.reshape(gt, (-1,4))\n",
        "\n",
        "    \n",
        "    # (N_anchor, 2) -> (1, N_anchor, 2)\n",
        "    expand_anchors = np.expand_dims(anchors_2d , axis=1)\n",
        "    \n",
        "    # (N_gt, 2) -> (N_gt, 1, 2)\n",
        "    expand_gt = np.expand_dims(gt_2d , axis=0)\n",
        "    \n",
        "    # Calculate delta\n",
        "    delta_x = (expand_gt[:,:,0] - expand_anchors[:,:,0])/ expand_anchors[:,:,2]\n",
        "    delta_y = (expand_gt[:,:,1] - expand_anchors[:,:,1])/ expand_anchors[:,:,3]\n",
        "    delta_w = np.log(expand_gt[:,:,2]) - np.log(expand_anchors[:,:,2])\n",
        "    delta_h = np.log(expand_gt[:,:,3]) - np.log(expand_anchors[:,:,3])\n",
        "    \n",
        "    # Caution # \n",
        "    # dtype=np.float32 이 구문을 제거하면 default 가 int 이되서 \n",
        "    # float 값을 대입하면 모두 0이 된다. 주의하자.\n",
        "    norm_anchors = np.ones_like(expand_anchors - expand_gt, dtype=np.float32)\n",
        "    norm_anchors[:, : , 0] = delta_x\n",
        "    norm_anchors[:, : , 1] = delta_y    \n",
        "    norm_anchors[:, : , 2] = delta_w    \n",
        "    norm_anchors[:, : , 3] = delta_h    \n",
        "    return norm_anchors\n",
        "\n",
        "\n",
        "def generate_trainable_anchors(normalize_anchors, positive_mask):\n",
        "    \"\"\"\n",
        "    Args:\n",
        "        normalize_anchors: 3D array, shape = [N_anchor, N_gt, 4]\n",
        "        \n",
        "        positve_mask: Ndarray, 2D array, \n",
        "            anchor 로 사용할 것은 *1*로  \n",
        "            anchor 로 사용하지 않을 것은 *-1* 로 표기\n",
        "            example: [[1 ,-1 ], <-anchor1\n",
        "                      [-1 ,-1], <-anchor2\n",
        "                      [-1 ,-1], <-anchor3\n",
        "                      [1 , 1 ], <-anchor4\n",
        "                      [-1 , 1]] <-anchor5                                        \n",
        "                       gt1 gt2\n",
        "           위 예제에서 사용할 anchor 는 (gt1, anchor1), (gt2, anchor4), (gt2, anchor5) \n",
        "\n",
        "    Description:\n",
        "    \n",
        "        학습시킬수 있는 anchors을 생성합니다. \n",
        "        입력된 normalize_anchors 는 Shape 을 [N_anchor, N_gt, 4] 가집니다. \n",
        "        해당 vector 에서 postive_mask 에 표시된(1로 표기된) 좌표의 \n",
        "        anchor 만 가져옵니다. \n",
        "        \n",
        "        해당 anchor 을 가져와 shape 가 [N_anchor , 4] 인 anchor 에 넣습니다. \n",
        "        \n",
        "        # Caution! #        \n",
        "        만약 가져올 anchor 가 없으면 (예제 anchor3) -1 -1 -1 -1로 채운다\n",
        "        만약 가져올 anchor 가 많다면 가장 오른쪽에 있는 (gt2, anchor4) anchor 을 선택한다.\n",
        "        \n",
        "        \n",
        "    \"\"\"\n",
        "    # \n",
        "    indices_2d = np.where(positive_mask == 1)\n",
        "    indices_2d = np.stack(indices_2d, axis=0).tolist()\n",
        "\n",
        "    # trainable axis=0 기준으로 어디에다가 추출한 x,y,w,h 을 넣어야 할지 가리키는 indices\n",
        "    indices = indices_2d[0]\n",
        "\n",
        "    # delta 에서 해당 좌표를 가져온다 \n",
        "    dx = normalize_anchors[:,:,0][indices_2d]    \n",
        "    dy = normalize_anchors[:,:,1][indices_2d]    \n",
        "    dw = normalize_anchors[:,:,2][indices_2d]    \n",
        "    dh = normalize_anchors[:,:,3][indices_2d]    \n",
        "\n",
        "    # stack 한다. \n",
        "    d_xywh = np.stack([dx, dy, dw, dh], axis=-1)\n",
        "    # \n",
        "    ret_anchor = np.ones([len(normalize_anchors), 4], dtype=np.float32)*-1\n",
        "    ret_anchor[indices] = d_xywh\n",
        "    return ret_anchor\n",
        "    "
      ],
      "execution_count": 0,
      "outputs": []
    },
    {
      "cell_type": "code",
      "metadata": {
        "id": "O8nF7SuP-362",
        "colab_type": "code",
        "colab": {}
      },
      "source": [
        "# Test Normalization\n",
        "anchors = [0,0,5,6, \n",
        "           5,5,10,11,\n",
        "           0,0,7,6]\n",
        "gt = [3, 3, 8, 8, \n",
        "      4, 4, 8, 8]\n",
        "\n",
        "pos_mask =np.asarray([[-1,1],\n",
        "          [-1,-1],\n",
        "          [1,1]])\n",
        "\n",
        "anchors = normalize_anchors(anchors, gt)\n",
        "trainable_anchors = generate_trainable_anchors(anchors, pos_mask)\n",
        "\n"
      ],
      "execution_count": 0,
      "outputs": []
    },
    {
      "cell_type": "code",
      "metadata": {
        "id": "Xv62KA_6o5rp",
        "colab_type": "code",
        "colab": {}
      },
      "source": [
        "# Test Normalization\n",
        "anchors = [0,0,5,6, \n",
        "           5,5,10,11,\n",
        "           0,0,7,6]\n",
        "gt = [3, 3, 8, 8, \n",
        "      4, 4, 8, 8]\n",
        "           \n",
        "anchors_2d = np.reshape(anchors, (-1,4))\n",
        "gt_2d = np.reshape(gt, (-1,4))\n",
        "           \n",
        "expand_anchors = np.expand_dims(anchors_2d , axis=1)\n",
        "expand_gt = np.expand_dims(gt_2d , axis=0)\n",
        "\n",
        "norm_anchors = np.ones_like(expand_anchors - expand_gt, dtype=np.float32)*-1\n",
        "\n",
        "delta_x = (expand_gt[:,:,0] - expand_anchors[:,:,0])/ expand_anchors[:,:,2]\n",
        "delta_y = (expand_gt[:,:,1] - expand_anchors[:,:,1])/ expand_anchors[:,:,3]\n",
        "delta_w = np.log(expand_gt[:,:,2]) - np.log(expand_anchors[:,:,2])\n",
        "delta_h = np.log(expand_gt[:,:,3]) - np.log(expand_anchors[:,:,3])\n",
        "\n",
        "assert(delta_x.shape == delta_y.shape == delta_w.shape == delta_h.shape )\n",
        "print(delta_x)\n",
        "print(delta_y)\n",
        "print(delta_w)\n",
        "print(delta_h)"
      ],
      "execution_count": 0,
      "outputs": []
    },
    {
      "cell_type": "code",
      "metadata": {
        "id": "31_mgTKIo934",
        "colab_type": "code",
        "colab": {}
      },
      "source": [
        "norm_anchors[:, :, 0] = delta_x\n",
        "norm_anchors[:, :, 1] = delta_y\n",
        "norm_anchors[:, :, 2] = delta_w\n",
        "norm_anchors[:, :, 3] = delta_h\n",
        "\n",
        "pos_mask =np.asarray([[-1,1],\n",
        "                      [-1,-1],\n",
        "                      [-1,1]])\n",
        "indices_2d = np.where(pos_mask == 1)\n",
        "indices_2d = np.stack(indices_2d, axis=0).tolist()\n",
        "print(indices_2d)\n",
        "\n",
        "delta_x\n",
        "print(delta_x[indices_2d])\n",
        "print(delta_y[indices_2d])\n",
        "print(delta_w[indices_2d])\n",
        "print(delta_h[indices_2d])"
      ],
      "execution_count": 0,
      "outputs": []
    },
    {
      "cell_type": "code",
      "metadata": {
        "id": "82tNCEVD5P5p",
        "colab_type": "code",
        "colab": {}
      },
      "source": [
        "norm_anchors[:, :, 0] = delta_x\n",
        "norm_anchors[:, :, 1] = delta_y\n",
        "norm_anchors[:, :, 2] = delta_w\n",
        "norm_anchors[:, :, 3] = delta_h\n",
        "\n",
        "pos_mask =np.asarray([[-1,1],\n",
        "                      [-1,-1],\n",
        "                      [1,1]])\n",
        "indices_2d = np.where(pos_mask == 1)\n",
        "indices_2d = np.stack(indices_2d, axis=0).tolist()\n"
      ],
      "execution_count": 0,
      "outputs": []
    },
    {
      "cell_type": "code",
      "metadata": {
        "id": "DINa4e185mt_",
        "colab_type": "code",
        "colab": {}
      },
      "source": [
        "\n",
        "print(norm_anchors)\n",
        "indices_2d = indices_2d\n",
        "indices = indices_2d[0]\n",
        "x = delta_x[indices_2d]\n",
        "y = delta_y[indices_2d]\n",
        "w = delta_w[indices_2d]\n",
        "h = delta_h[indices_2d]\n",
        "# print(x)\n",
        "# print(y)\n",
        "# print(w)\n",
        "# print(h)\n",
        "print(pos_mask)\n",
        "xywh = np.stack([x, y, w, h], axis=-1)\n",
        "\n",
        "\n",
        "print(xywh)\n",
        "ret_anchor = np.ones([len(norm_anchors), 4])*-1\n",
        "ret_anchor[indices] = xywh\n",
        "ret_anchor"
      ],
      "execution_count": 0,
      "outputs": []
    },
    {
      "cell_type": "code",
      "metadata": {
        "id": "PdeUsKJWxqQR",
        "colab_type": "code",
        "colab": {}
      },
      "source": [
        ""
      ],
      "execution_count": 0,
      "outputs": []
    }
  ]
}