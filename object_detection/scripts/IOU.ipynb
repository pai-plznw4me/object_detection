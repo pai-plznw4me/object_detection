{
  "nbformat": 4,
  "nbformat_minor": 0,
  "metadata": {
    "colab": {
      "name": "IOU.ipynb",
      "provenance": [],
      "private_outputs": true,
      "collapsed_sections": []
    },
    "kernelspec": {
      "name": "python3",
      "display_name": "Python 3"
    }
  },
  "cells": [
    {
      "cell_type": "markdown",
      "metadata": {
        "id": "NkULK2sU9mgm",
        "colab_type": "text"
      },
      "source": [
        "![Imgur](https://imgur.com/gOqXkrU)"
      ]
    },
    {
      "cell_type": "code",
      "metadata": {
        "id": "QPcCww6RRMD7",
        "colab_type": "code",
        "colab": {}
      },
      "source": [
        "def calculate_iou(sample_bboxes, gt_bboxes):\n",
        "    \n",
        "    \"\"\"\n",
        "    sample_bboxes : Ndarray, 1D array [x1, x2, y1, y2, x1, x2, y1, y2, ... ]\n",
        "    sample_bboxes : Ndarray, 1D array [x1, x2, y1, y2, x1, x2, y1, y2, ... ]\n",
        "    \"\"\"\n",
        "\n",
        "    # 1D array to 2D array \n",
        "    #[x1, x2, y1, y2, x1, x2, y1, y2 ]\n",
        "    # >>> \n",
        "    #[[x1, x2, y1, y2],\n",
        "    # [x1, x2, y1, y2]] \n",
        "    res_sample_bboxes = sample_bboxes.reshape([-1, 4])\n",
        "    gt_sample_bboxes = gt_bboxes.reshape([-1, 4])\n",
        "\n",
        "    # Get Area \n",
        "    area_sample = (res_sample_bboxes[:, 0] - res_sample_bboxes[:, 2]) * (res_sample_bboxes[:, 1] - res_sample_bboxes[:, 3])\n",
        "    area_gt = (gt_sample_bboxes[:, 0] - gt_sample_bboxes[:, 2]) * (gt_sample_bboxes[:, 1] - gt_sample_bboxes[:, 3])\n",
        "\n",
        "    # expand dims for using broadcasting\n",
        "    # (N, 4) -> (N, 1, 4)\n",
        "    expand_sample = np.expand_dims(res_sample_bboxes, axis=1)\n",
        "    # (N, 4) -> (1, N, 4)\n",
        "    expand_gt = np.expand_dims(gt_sample_bboxes, axis=0)\n",
        "\n",
        "    # search Maximun  \n",
        "    x1y1 = np.where(expand_sample[:, :, :2] > expand_gt[:, :, :2], expand_sample[:, :, :2], expand_gt[:, :, :2])\n",
        "    # search Minimun  \n",
        "    x2y2 = np.where(expand_sample[:, :, 2:] < expand_gt[:, :, 2:], expand_sample[:, :, 2:], expand_gt[:, :, 2:])\n",
        "\n",
        "    # get overlay area \n",
        "    overlay_area = np.prod(x1y1 - x2y2, axis=-1)\n",
        "    \n",
        "    # expand dimension for broadcasting \n",
        "    expand_area_sample= np.expand_dims(area_sample, axis=-1)\n",
        "\n",
        "    iou = overlay_area / (expand_area_sample + area_gt - overlay_area)\n",
        "\n",
        "    return iou"
      ],
      "execution_count": 0,
      "outputs": []
    },
    {
      "cell_type": "code",
      "metadata": {
        "id": "yFQ1bGX9RunM",
        "colab_type": "code",
        "colab": {}
      },
      "source": [
        "import tensorflow as tf\n",
        "import numpy as np\n",
        "\n",
        "sample_bboxes = np.asarray([0, 0, 10, 10,\n",
        "                           10, 10, 40, 40,\n",
        "                           10, 0, 40, 10,\n",
        "                            0, 10, 10, 40,\n",
        "                           ])\n",
        "\n",
        "sample_bboxes = np.stack([sample_bboxes,sample_bboxes], axis=0)\n",
        "gt_bboxes = np.asarray([[5, 5, 30, 30,\n",
        "                       10, 10, 40, 40]])\n",
        "\n",
        "iou = calculate_iou(sample_bboxes, gt_bboxes)\n",
        "\n",
        "\n"
      ],
      "execution_count": 0,
      "outputs": []
    },
    {
      "cell_type": "code",
      "metadata": {
        "id": "ZeuATJroR2tb",
        "colab_type": "code",
        "colab": {}
      },
      "source": [
        ""
      ],
      "execution_count": 0,
      "outputs": []
    },
    {
      "cell_type": "code",
      "metadata": {
        "id": "D0THysUKrcST",
        "colab_type": "code",
        "colab": {}
      },
      "source": [
        ""
      ],
      "execution_count": 0,
      "outputs": []
    }
  ]
}